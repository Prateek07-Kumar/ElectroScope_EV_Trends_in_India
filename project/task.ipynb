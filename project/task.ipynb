{
 "cells": [
  {
   "cell_type": "code",
   "execution_count": 2,
   "metadata": {},
   "outputs": [],
   "source": [
    "import pandas as pd \n",
    "import numpy as np \n",
    "import matplotlib.pyplot as plt\n",
    "import seaborn as sns\n",
    "import datetime"
   ]
  },
  {
   "cell_type": "code",
   "execution_count": 3,
   "metadata": {},
   "outputs": [],
   "source": [
    "df_makers = pd.read_csv(r\"C:\\Users\\vivek\\Downloads\\Electric_Vehicles_Project\\Dataset\\electric_vehicle_sales_by_makers.csv\")\n",
    "df_state = pd.read_csv(r\"C:\\Users\\vivek\\Downloads\\Electric_Vehicles_Project\\Dataset\\electric_vehicle_sales_by_state.csv\")\n",
    "df_date = pd.read_csv(r\"C:\\Users\\vivek\\Downloads\\Electric_Vehicles_Project\\Dataset\\dim_date.csv\")"
   ]
  },
  {
   "cell_type": "code",
   "execution_count": 4,
   "metadata": {},
   "outputs": [
    {
     "data": {
      "text/html": [
       "<div>\n",
       "<style scoped>\n",
       "    .dataframe tbody tr th:only-of-type {\n",
       "        vertical-align: middle;\n",
       "    }\n",
       "\n",
       "    .dataframe tbody tr th {\n",
       "        vertical-align: top;\n",
       "    }\n",
       "\n",
       "    .dataframe thead th {\n",
       "        text-align: right;\n",
       "    }\n",
       "</style>\n",
       "<table border=\"1\" class=\"dataframe\">\n",
       "  <thead>\n",
       "    <tr style=\"text-align: right;\">\n",
       "      <th></th>\n",
       "      <th>date</th>\n",
       "      <th>vehicle_category</th>\n",
       "      <th>maker</th>\n",
       "      <th>electric_vehicles_sold</th>\n",
       "    </tr>\n",
       "  </thead>\n",
       "  <tbody>\n",
       "    <tr>\n",
       "      <th>0</th>\n",
       "      <td>01-Apr-21</td>\n",
       "      <td>2-Wheelers</td>\n",
       "      <td>OLA ELECTRIC</td>\n",
       "      <td>0</td>\n",
       "    </tr>\n",
       "    <tr>\n",
       "      <th>1</th>\n",
       "      <td>01-Apr-22</td>\n",
       "      <td>2-Wheelers</td>\n",
       "      <td>OKAYA EV</td>\n",
       "      <td>0</td>\n",
       "    </tr>\n",
       "    <tr>\n",
       "      <th>2</th>\n",
       "      <td>01-May-21</td>\n",
       "      <td>2-Wheelers</td>\n",
       "      <td>OLA ELECTRIC</td>\n",
       "      <td>0</td>\n",
       "    </tr>\n",
       "    <tr>\n",
       "      <th>3</th>\n",
       "      <td>01-Jun-21</td>\n",
       "      <td>2-Wheelers</td>\n",
       "      <td>OLA ELECTRIC</td>\n",
       "      <td>0</td>\n",
       "    </tr>\n",
       "    <tr>\n",
       "      <th>4</th>\n",
       "      <td>01-Jul-21</td>\n",
       "      <td>2-Wheelers</td>\n",
       "      <td>OLA ELECTRIC</td>\n",
       "      <td>0</td>\n",
       "    </tr>\n",
       "  </tbody>\n",
       "</table>\n",
       "</div>"
      ],
      "text/plain": [
       "        date vehicle_category         maker  electric_vehicles_sold\n",
       "0  01-Apr-21       2-Wheelers  OLA ELECTRIC                       0\n",
       "1  01-Apr-22       2-Wheelers      OKAYA EV                       0\n",
       "2  01-May-21       2-Wheelers  OLA ELECTRIC                       0\n",
       "3  01-Jun-21       2-Wheelers  OLA ELECTRIC                       0\n",
       "4  01-Jul-21       2-Wheelers  OLA ELECTRIC                       0"
      ]
     },
     "execution_count": 4,
     "metadata": {},
     "output_type": "execute_result"
    }
   ],
   "source": [
    "df_makers.head()"
   ]
  },
  {
   "cell_type": "code",
   "execution_count": 5,
   "metadata": {},
   "outputs": [
    {
     "data": {
      "text/html": [
       "<div>\n",
       "<style scoped>\n",
       "    .dataframe tbody tr th:only-of-type {\n",
       "        vertical-align: middle;\n",
       "    }\n",
       "\n",
       "    .dataframe tbody tr th {\n",
       "        vertical-align: top;\n",
       "    }\n",
       "\n",
       "    .dataframe thead th {\n",
       "        text-align: right;\n",
       "    }\n",
       "</style>\n",
       "<table border=\"1\" class=\"dataframe\">\n",
       "  <thead>\n",
       "    <tr style=\"text-align: right;\">\n",
       "      <th></th>\n",
       "      <th>date</th>\n",
       "      <th>state</th>\n",
       "      <th>vehicle_category</th>\n",
       "      <th>electric_vehicles_sold</th>\n",
       "      <th>total_vehicles_sold</th>\n",
       "    </tr>\n",
       "  </thead>\n",
       "  <tbody>\n",
       "    <tr>\n",
       "      <th>0</th>\n",
       "      <td>01-Apr-21</td>\n",
       "      <td>Sikkim</td>\n",
       "      <td>2-Wheelers</td>\n",
       "      <td>0</td>\n",
       "      <td>398</td>\n",
       "    </tr>\n",
       "    <tr>\n",
       "      <th>1</th>\n",
       "      <td>01-Apr-21</td>\n",
       "      <td>Sikkim</td>\n",
       "      <td>4-Wheelers</td>\n",
       "      <td>0</td>\n",
       "      <td>361</td>\n",
       "    </tr>\n",
       "    <tr>\n",
       "      <th>2</th>\n",
       "      <td>01-May-21</td>\n",
       "      <td>Sikkim</td>\n",
       "      <td>2-Wheelers</td>\n",
       "      <td>0</td>\n",
       "      <td>113</td>\n",
       "    </tr>\n",
       "    <tr>\n",
       "      <th>3</th>\n",
       "      <td>01-May-21</td>\n",
       "      <td>Sikkim</td>\n",
       "      <td>4-Wheelers</td>\n",
       "      <td>0</td>\n",
       "      <td>98</td>\n",
       "    </tr>\n",
       "    <tr>\n",
       "      <th>4</th>\n",
       "      <td>01-Jun-21</td>\n",
       "      <td>Sikkim</td>\n",
       "      <td>2-Wheelers</td>\n",
       "      <td>0</td>\n",
       "      <td>229</td>\n",
       "    </tr>\n",
       "  </tbody>\n",
       "</table>\n",
       "</div>"
      ],
      "text/plain": [
       "        date   state vehicle_category  electric_vehicles_sold  \\\n",
       "0  01-Apr-21  Sikkim       2-Wheelers                       0   \n",
       "1  01-Apr-21  Sikkim       4-Wheelers                       0   \n",
       "2  01-May-21  Sikkim       2-Wheelers                       0   \n",
       "3  01-May-21  Sikkim       4-Wheelers                       0   \n",
       "4  01-Jun-21  Sikkim       2-Wheelers                       0   \n",
       "\n",
       "   total_vehicles_sold  \n",
       "0                  398  \n",
       "1                  361  \n",
       "2                  113  \n",
       "3                   98  \n",
       "4                  229  "
      ]
     },
     "execution_count": 5,
     "metadata": {},
     "output_type": "execute_result"
    }
   ],
   "source": [
    "df_state.head()"
   ]
  },
  {
   "cell_type": "code",
   "execution_count": 6,
   "metadata": {},
   "outputs": [
    {
     "data": {
      "text/html": [
       "<div>\n",
       "<style scoped>\n",
       "    .dataframe tbody tr th:only-of-type {\n",
       "        vertical-align: middle;\n",
       "    }\n",
       "\n",
       "    .dataframe tbody tr th {\n",
       "        vertical-align: top;\n",
       "    }\n",
       "\n",
       "    .dataframe thead th {\n",
       "        text-align: right;\n",
       "    }\n",
       "</style>\n",
       "<table border=\"1\" class=\"dataframe\">\n",
       "  <thead>\n",
       "    <tr style=\"text-align: right;\">\n",
       "      <th></th>\n",
       "      <th>date</th>\n",
       "      <th>fiscal_year</th>\n",
       "      <th>quarter</th>\n",
       "    </tr>\n",
       "  </thead>\n",
       "  <tbody>\n",
       "    <tr>\n",
       "      <th>0</th>\n",
       "      <td>01-Apr-21</td>\n",
       "      <td>2022</td>\n",
       "      <td>Q1</td>\n",
       "    </tr>\n",
       "    <tr>\n",
       "      <th>1</th>\n",
       "      <td>01-May-21</td>\n",
       "      <td>2022</td>\n",
       "      <td>Q1</td>\n",
       "    </tr>\n",
       "    <tr>\n",
       "      <th>2</th>\n",
       "      <td>01-Jun-21</td>\n",
       "      <td>2022</td>\n",
       "      <td>Q1</td>\n",
       "    </tr>\n",
       "    <tr>\n",
       "      <th>3</th>\n",
       "      <td>01-Jul-21</td>\n",
       "      <td>2022</td>\n",
       "      <td>Q2</td>\n",
       "    </tr>\n",
       "    <tr>\n",
       "      <th>4</th>\n",
       "      <td>01-Aug-21</td>\n",
       "      <td>2022</td>\n",
       "      <td>Q2</td>\n",
       "    </tr>\n",
       "  </tbody>\n",
       "</table>\n",
       "</div>"
      ],
      "text/plain": [
       "        date  fiscal_year quarter\n",
       "0  01-Apr-21         2022      Q1\n",
       "1  01-May-21         2022      Q1\n",
       "2  01-Jun-21         2022      Q1\n",
       "3  01-Jul-21         2022      Q2\n",
       "4  01-Aug-21         2022      Q2"
      ]
     },
     "execution_count": 6,
     "metadata": {},
     "output_type": "execute_result"
    }
   ],
   "source": [
    "df_date.head()"
   ]
  },
  {
   "cell_type": "code",
   "execution_count": 7,
   "metadata": {},
   "outputs": [
    {
     "name": "stdout",
     "output_type": "stream",
     "text": [
      "<class 'pandas.core.frame.DataFrame'>\n",
      "RangeIndex: 816 entries, 0 to 815\n",
      "Data columns (total 4 columns):\n",
      " #   Column                  Non-Null Count  Dtype \n",
      "---  ------                  --------------  ----- \n",
      " 0   date                    816 non-null    object\n",
      " 1   vehicle_category        816 non-null    object\n",
      " 2   maker                   816 non-null    object\n",
      " 3   electric_vehicles_sold  816 non-null    int64 \n",
      "dtypes: int64(1), object(3)\n",
      "memory usage: 25.6+ KB\n"
     ]
    }
   ],
   "source": [
    "df_makers.info()"
   ]
  },
  {
   "cell_type": "code",
   "execution_count": 8,
   "metadata": {},
   "outputs": [
    {
     "name": "stdout",
     "output_type": "stream",
     "text": [
      "<class 'pandas.core.frame.DataFrame'>\n",
      "RangeIndex: 2445 entries, 0 to 2444\n",
      "Data columns (total 5 columns):\n",
      " #   Column                  Non-Null Count  Dtype \n",
      "---  ------                  --------------  ----- \n",
      " 0   date                    2445 non-null   object\n",
      " 1   state                   2445 non-null   object\n",
      " 2   vehicle_category        2445 non-null   object\n",
      " 3   electric_vehicles_sold  2445 non-null   int64 \n",
      " 4   total_vehicles_sold     2445 non-null   int64 \n",
      "dtypes: int64(2), object(3)\n",
      "memory usage: 95.6+ KB\n"
     ]
    }
   ],
   "source": [
    "df_state.info()"
   ]
  },
  {
   "cell_type": "code",
   "execution_count": 9,
   "metadata": {},
   "outputs": [
    {
     "name": "stdout",
     "output_type": "stream",
     "text": [
      "<class 'pandas.core.frame.DataFrame'>\n",
      "RangeIndex: 36 entries, 0 to 35\n",
      "Data columns (total 3 columns):\n",
      " #   Column       Non-Null Count  Dtype \n",
      "---  ------       --------------  ----- \n",
      " 0   date         36 non-null     object\n",
      " 1   fiscal_year  36 non-null     int64 \n",
      " 2   quarter      36 non-null     object\n",
      "dtypes: int64(1), object(2)\n",
      "memory usage: 992.0+ bytes\n"
     ]
    }
   ],
   "source": [
    "df_date.info()"
   ]
  },
  {
   "cell_type": "code",
   "execution_count": 10,
   "metadata": {},
   "outputs": [
    {
     "data": {
      "text/plain": [
       "<bound method DataFrame.info of        electric_vehicles_sold\n",
       "count              816.000000\n",
       "mean              2531.998775\n",
       "std               4771.077333\n",
       "min                  0.000000\n",
       "25%                 42.000000\n",
       "50%                662.000000\n",
       "75%               2636.500000\n",
       "max              44630.000000>"
      ]
     },
     "execution_count": 10,
     "metadata": {},
     "output_type": "execute_result"
    }
   ],
   "source": [
    "df_makers.describe().info"
   ]
  },
  {
   "cell_type": "code",
   "execution_count": 11,
   "metadata": {},
   "outputs": [
    {
     "data": {
      "text/plain": [
       "electric_vehicles_sold     32733.202918\n",
       "total_vehicles_sold       488837.232442\n",
       "dtype: float64"
      ]
     },
     "execution_count": 11,
     "metadata": {},
     "output_type": "execute_result"
    }
   ],
   "source": [
    "df_state.describe().sum()"
   ]
  },
  {
   "cell_type": "code",
   "execution_count": 12,
   "metadata": {},
   "outputs": [
    {
     "data": {
      "text/plain": [
       "fiscal_year    12174.828079\n",
       "dtype: float64"
      ]
     },
     "execution_count": 12,
     "metadata": {},
     "output_type": "execute_result"
    }
   ],
   "source": [
    "df_date.describe().sum()"
   ]
  },
  {
   "cell_type": "code",
   "execution_count": 13,
   "metadata": {},
   "outputs": [
    {
     "data": {
      "text/html": [
       "<div>\n",
       "<style scoped>\n",
       "    .dataframe tbody tr th:only-of-type {\n",
       "        vertical-align: middle;\n",
       "    }\n",
       "\n",
       "    .dataframe tbody tr th {\n",
       "        vertical-align: top;\n",
       "    }\n",
       "\n",
       "    .dataframe thead th {\n",
       "        text-align: right;\n",
       "    }\n",
       "</style>\n",
       "<table border=\"1\" class=\"dataframe\">\n",
       "  <thead>\n",
       "    <tr style=\"text-align: right;\">\n",
       "      <th></th>\n",
       "      <th>date</th>\n",
       "      <th>vehicle_category</th>\n",
       "      <th>maker</th>\n",
       "      <th>electric_vehicles_sold</th>\n",
       "    </tr>\n",
       "  </thead>\n",
       "  <tbody>\n",
       "    <tr>\n",
       "      <th>811</th>\n",
       "      <td>01-Mar-24</td>\n",
       "      <td>2-Wheelers</td>\n",
       "      <td>BGAUSS</td>\n",
       "      <td>3070</td>\n",
       "    </tr>\n",
       "    <tr>\n",
       "      <th>812</th>\n",
       "      <td>01-Mar-24</td>\n",
       "      <td>2-Wheelers</td>\n",
       "      <td>BATTRE ELECTRIC</td>\n",
       "      <td>625</td>\n",
       "    </tr>\n",
       "    <tr>\n",
       "      <th>813</th>\n",
       "      <td>01-Mar-24</td>\n",
       "      <td>2-Wheelers</td>\n",
       "      <td>KINETIC GREEN</td>\n",
       "      <td>3915</td>\n",
       "    </tr>\n",
       "    <tr>\n",
       "      <th>814</th>\n",
       "      <td>01-Mar-24</td>\n",
       "      <td>2-Wheelers</td>\n",
       "      <td>REVOLT</td>\n",
       "      <td>585</td>\n",
       "    </tr>\n",
       "    <tr>\n",
       "      <th>815</th>\n",
       "      <td>01-Mar-24</td>\n",
       "      <td>2-Wheelers</td>\n",
       "      <td>OTHERS</td>\n",
       "      <td>10579</td>\n",
       "    </tr>\n",
       "  </tbody>\n",
       "</table>\n",
       "</div>"
      ],
      "text/plain": [
       "          date vehicle_category            maker  electric_vehicles_sold\n",
       "811  01-Mar-24       2-Wheelers           BGAUSS                    3070\n",
       "812  01-Mar-24       2-Wheelers  BATTRE ELECTRIC                     625\n",
       "813  01-Mar-24       2-Wheelers    KINETIC GREEN                    3915\n",
       "814  01-Mar-24       2-Wheelers           REVOLT                     585\n",
       "815  01-Mar-24       2-Wheelers           OTHERS                   10579"
      ]
     },
     "execution_count": 13,
     "metadata": {},
     "output_type": "execute_result"
    }
   ],
   "source": [
    "df_makers.tail()"
   ]
  },
  {
   "cell_type": "code",
   "execution_count": 14,
   "metadata": {},
   "outputs": [
    {
     "data": {
      "text/html": [
       "<div>\n",
       "<style scoped>\n",
       "    .dataframe tbody tr th:only-of-type {\n",
       "        vertical-align: middle;\n",
       "    }\n",
       "\n",
       "    .dataframe tbody tr th {\n",
       "        vertical-align: top;\n",
       "    }\n",
       "\n",
       "    .dataframe thead th {\n",
       "        text-align: right;\n",
       "    }\n",
       "</style>\n",
       "<table border=\"1\" class=\"dataframe\">\n",
       "  <thead>\n",
       "    <tr style=\"text-align: right;\">\n",
       "      <th></th>\n",
       "      <th>date</th>\n",
       "      <th>state</th>\n",
       "      <th>vehicle_category</th>\n",
       "      <th>electric_vehicles_sold</th>\n",
       "      <th>total_vehicles_sold</th>\n",
       "    </tr>\n",
       "  </thead>\n",
       "  <tbody>\n",
       "    <tr>\n",
       "      <th>2440</th>\n",
       "      <td>01-Mar-24</td>\n",
       "      <td>Mizoram</td>\n",
       "      <td>2-Wheelers</td>\n",
       "      <td>58</td>\n",
       "      <td>1932</td>\n",
       "    </tr>\n",
       "    <tr>\n",
       "      <th>2441</th>\n",
       "      <td>01-Mar-24</td>\n",
       "      <td>DNH and DD</td>\n",
       "      <td>2-Wheelers</td>\n",
       "      <td>25</td>\n",
       "      <td>780</td>\n",
       "    </tr>\n",
       "    <tr>\n",
       "      <th>2442</th>\n",
       "      <td>01-Mar-24</td>\n",
       "      <td>Manipur</td>\n",
       "      <td>2-Wheelers</td>\n",
       "      <td>13</td>\n",
       "      <td>1394</td>\n",
       "    </tr>\n",
       "    <tr>\n",
       "      <th>2443</th>\n",
       "      <td>01-Mar-24</td>\n",
       "      <td>Andaman &amp; Nicobar Island</td>\n",
       "      <td>2-Wheelers</td>\n",
       "      <td>2</td>\n",
       "      <td>447</td>\n",
       "    </tr>\n",
       "    <tr>\n",
       "      <th>2444</th>\n",
       "      <td>01-Mar-24</td>\n",
       "      <td>Nagaland</td>\n",
       "      <td>2-Wheelers</td>\n",
       "      <td>2</td>\n",
       "      <td>1180</td>\n",
       "    </tr>\n",
       "  </tbody>\n",
       "</table>\n",
       "</div>"
      ],
      "text/plain": [
       "           date                     state vehicle_category  \\\n",
       "2440  01-Mar-24                   Mizoram       2-Wheelers   \n",
       "2441  01-Mar-24                DNH and DD       2-Wheelers   \n",
       "2442  01-Mar-24                   Manipur       2-Wheelers   \n",
       "2443  01-Mar-24  Andaman & Nicobar Island       2-Wheelers   \n",
       "2444  01-Mar-24                  Nagaland       2-Wheelers   \n",
       "\n",
       "      electric_vehicles_sold  total_vehicles_sold  \n",
       "2440                      58                 1932  \n",
       "2441                      25                  780  \n",
       "2442                      13                 1394  \n",
       "2443                       2                  447  \n",
       "2444                       2                 1180  "
      ]
     },
     "execution_count": 14,
     "metadata": {},
     "output_type": "execute_result"
    }
   ],
   "source": [
    "df_state.tail()"
   ]
  },
  {
   "cell_type": "code",
   "execution_count": 15,
   "metadata": {},
   "outputs": [
    {
     "data": {
      "text/html": [
       "<div>\n",
       "<style scoped>\n",
       "    .dataframe tbody tr th:only-of-type {\n",
       "        vertical-align: middle;\n",
       "    }\n",
       "\n",
       "    .dataframe tbody tr th {\n",
       "        vertical-align: top;\n",
       "    }\n",
       "\n",
       "    .dataframe thead th {\n",
       "        text-align: right;\n",
       "    }\n",
       "</style>\n",
       "<table border=\"1\" class=\"dataframe\">\n",
       "  <thead>\n",
       "    <tr style=\"text-align: right;\">\n",
       "      <th></th>\n",
       "      <th>date</th>\n",
       "      <th>fiscal_year</th>\n",
       "      <th>quarter</th>\n",
       "    </tr>\n",
       "  </thead>\n",
       "  <tbody>\n",
       "    <tr>\n",
       "      <th>31</th>\n",
       "      <td>01-Nov-23</td>\n",
       "      <td>2024</td>\n",
       "      <td>Q3</td>\n",
       "    </tr>\n",
       "    <tr>\n",
       "      <th>32</th>\n",
       "      <td>01-Dec-23</td>\n",
       "      <td>2024</td>\n",
       "      <td>Q3</td>\n",
       "    </tr>\n",
       "    <tr>\n",
       "      <th>33</th>\n",
       "      <td>01-Jan-24</td>\n",
       "      <td>2024</td>\n",
       "      <td>Q4</td>\n",
       "    </tr>\n",
       "    <tr>\n",
       "      <th>34</th>\n",
       "      <td>01-Feb-24</td>\n",
       "      <td>2024</td>\n",
       "      <td>Q4</td>\n",
       "    </tr>\n",
       "    <tr>\n",
       "      <th>35</th>\n",
       "      <td>01-Mar-24</td>\n",
       "      <td>2024</td>\n",
       "      <td>Q4</td>\n",
       "    </tr>\n",
       "  </tbody>\n",
       "</table>\n",
       "</div>"
      ],
      "text/plain": [
       "         date  fiscal_year quarter\n",
       "31  01-Nov-23         2024      Q3\n",
       "32  01-Dec-23         2024      Q3\n",
       "33  01-Jan-24         2024      Q4\n",
       "34  01-Feb-24         2024      Q4\n",
       "35  01-Mar-24         2024      Q4"
      ]
     },
     "execution_count": 15,
     "metadata": {},
     "output_type": "execute_result"
    }
   ],
   "source": [
    "df_date.tail()"
   ]
  },
  {
   "cell_type": "code",
   "execution_count": null,
   "metadata": {},
   "outputs": [],
   "source": []
  }
 ],
 "metadata": {
  "kernelspec": {
   "display_name": "Python 3",
   "language": "python",
   "name": "python3"
  },
  "language_info": {
   "codemirror_mode": {
    "name": "ipython",
    "version": 3
   },
   "file_extension": ".py",
   "mimetype": "text/x-python",
   "name": "python",
   "nbconvert_exporter": "python",
   "pygments_lexer": "ipython3",
   "version": "3.9.0"
  },
  "orig_nbformat": 4
 },
 "nbformat": 4,
 "nbformat_minor": 2
}
